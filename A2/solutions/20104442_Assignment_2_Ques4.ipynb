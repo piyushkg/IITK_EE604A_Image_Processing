{
  "nbformat": 4,
  "nbformat_minor": 0,
  "metadata": {
    "colab": {
      "name": "20104442_Assignment_2_Ques4.ipynb",
      "provenance": [],
      "collapsed_sections": []
    },
    "kernelspec": {
      "display_name": "Python 3",
      "language": "python",
      "name": "python3"
    },
    "language_info": {
      "codemirror_mode": {
        "name": "ipython",
        "version": 3
      },
      "file_extension": ".py",
      "mimetype": "text/x-python",
      "name": "python",
      "nbconvert_exporter": "python",
      "pygments_lexer": "ipython3",
      "version": "3.8.8"
    }
  },
  "cells": [
    {
      "cell_type": "code",
      "metadata": {
        "id": "m4oOZhcnWPTU"
      },
      "source": [
        "# Copyright 2021 IITK EE604A Image Processing. All Rights Reserved.\n",
        "# \n",
        "# Licensed under the MIT License. Use and/or modification of this code outside of EE604 must reference:\n",
        "#\n",
        "# © IITK EE604A Image Processing \n",
        "#\n",
        "# Author: Dheeraj Bharti, Chiranjeev Prachand and Prof Tushar Sandhan, Department of Electrical Engineering, IIT Kanpur"
      ],
      "execution_count": null,
      "outputs": []
    },
    {
      "cell_type": "code",
      "metadata": {
        "id": "7U2RhKVRQHra"
      },
      "source": [
        "import argparse\n",
        "import cv2\n",
        "import numpy as np\n",
        "import math\n",
        "import matplotlib.pyplot as plt\n",
        "from collections import defaultdict\n",
        "from google.colab.patches import cv2_imshow"
      ],
      "execution_count": 1,
      "outputs": []
    },
    {
      "cell_type": "markdown",
      "metadata": {
        "id": "cMsEKs0pWVwW"
      },
      "source": [
        "Upload 'pic2.png' file manually to your google colab working directory:\n",
        "\n",
        "1. Click on the folder drawing button on the left below the <> sign.\n",
        "2. Click on Upload to session storage button to upload the image."
      ]
    },
    {
      "cell_type": "code",
      "metadata": {
        "id": "tM9bL82RZkss"
      },
      "source": [
        "# A function defined to sum all the votes in accumulator\n",
        "def sum_accum_value(acc):\n",
        "    '''\n",
        "    A simple function just to find summ of all the votes in the accumulator\n",
        "    Input:\n",
        "    acc - (accumulatar) - a list where each element has (a,b,r),v - where v is vote that has to be summed up\n",
        "\n",
        "    Output:\n",
        "    val_sum - int - sum of all the votes\n",
        "\n",
        "    Used library:\n",
        "    Numpy only\n",
        "\n",
        "    '''\n",
        "    tnum = len(acc) \n",
        "    val_sum = 0\n",
        "    for i in range(tnum):\n",
        "        val_sum += acc[i][1]\n",
        "    return val_sum\n",
        "\n",
        "## In this function, after getting the edge image, circle detection will be carried out.\n",
        "\n",
        "def find_hough_circles(image, edge_image, r_min, r_max, delta_r, num_thetas, bin_threshold, post_process = True):\n",
        "\n",
        "    '''\n",
        "    Input:\n",
        "\n",
        "    image - Input 2-D RGB image\n",
        "\n",
        "    edge_image - Canny algorithm output of image variable\n",
        "\n",
        "    r_min - Min radius circle to detect. Default is 10.\n",
        "\n",
        "    r_max - Max radius circle to detect. Default is 200.\n",
        "\n",
        "    delta_r - Delta change in radius from r_min to r_max. Default is 1.\n",
        "\n",
        "    num_thetas - Number of steps for theta from 0 to 2PI. Default is 100.\n",
        "\n",
        "    bin_threshold - Thresholding value in percentage to shortlist candidate for circle. Default is 0.4 i.e. 40%.\n",
        "\n",
        "    Output:\n",
        "\n",
        "    output_image\n",
        "\n",
        "    out_circles\n",
        "\n",
        "    '''\n",
        "\n",
        "\n",
        "    img_height, img_width = edge_image.shape[:2]\n",
        "\n",
        "    # R and Theta ranges\n",
        "    dtheta = int(360 / num_thetas)\n",
        "\n",
        "    #######################################################################\n",
        "    # Write code according to the instruction written infront of the line.\n",
        "    #######################################################################\n",
        "\n",
        "    # Write your code here #    ## Use np.arange; divide 0 to 360 in dtheta steps; name it thetas ## \n",
        "    # Write your code here #    ## Use np.arange; divide radius from r_min to r_max in delta_r steps; name it rs ##\n",
        "    thetas = np.arange(0.0, 360.0, dtheta)\n",
        "    rs = np.arange(r_min, r_max, delta_r)\n",
        "    \n",
        "    # Cos and Sin of theta values required later\n",
        "    cos_thetas = np.cos(np.deg2rad(thetas))\n",
        "    sin_thetas = np.sin(np.deg2rad(thetas))\n",
        "\n",
        "\n",
        "    circle_candidates = []\n",
        "\n",
        "    for r in rs:\n",
        "        for t in range(num_thetas):\n",
        "            circle_candidates.append((r, int(r * cos_thetas[t]), int(r * sin_thetas[t])))\n",
        "\n",
        "    accumulator = defaultdict(int)\n",
        "\n",
        "\n",
        "    #######################################################################\n",
        "    # Write code according to the instruction written infront of the line.\n",
        "    #######################################################################\n",
        "\n",
        "    # Write your code here #    ##  Using nested for loops, for every point (x,y) in edge_image, \n",
        "                               #  1. for every white pixel,\n",
        "                               #  2. iterate through all three variables of circle_candidates namely r,rcos_t and rsin_t together\n",
        "                               #     and calculate x_center = x - rcos_t and y_center = y - rsin_t    \n",
        "                               #  3. and, increment the accumulator using accumulator[(x_center, y_center, r)] += 1 \n",
        "\n",
        "    x_idxs = []\n",
        "    y_idxs = []\n",
        "    for i in range(img_width):\n",
        "        for j in range(img_height):\n",
        "            if edge_image[i,j] >= 200:\n",
        "                x_idxs.append(i)\n",
        "                y_idxs.append(j)\n",
        "\n",
        "\n",
        "    for i in range(len(x_idxs)):\n",
        "        for k in range(len(circle_candidates)):\n",
        "            x_center = int(x_idxs[i] - circle_candidates[k][1])\n",
        "            y_center = int(y_idxs[i] - circle_candidates[k][2])\n",
        "            accumulator[(x_center, y_center, r)] += 1\n",
        "\n",
        "    output_img = image.copy()\n",
        "    out_circles = []\n",
        "\n",
        "    #######################################################################\n",
        "    # Write code according to the instruction written infront of the line.\n",
        "    #######################################################################\n",
        "\n",
        "    # Write your code here #   ## Sort the accumulator votes, remember it is a dictionary; thus, sort by value (i.e. votes) \n",
        "                              # Aim is to only keep that candidate_circle value whose vote percentage is above the bin_threshold value \n",
        "                              # so as to minimize the number of candidate circles\n",
        "                              # After that, store that centre coordinate and radius tuple i.e. (xo,yo,r) along with its vote percentage\n",
        "                              # together using variable out_circles ; Hint: Use out_circles.append((xo, yo, r, vote_percentage))\n",
        "                              # Also, print (xo,yo,r,vote_percentage) \n",
        "    \n",
        "\n",
        "    sorted_accumulator = sorted(accumulator.items() , key=lambda i: -i[1])\n",
        "    total_vote = sum_accum_value(sorted_accumulator)\n",
        "\n",
        "    for k, v in sorted_accumulator:\n",
        "            x, y, r = k\n",
        "            if (v / total_vote) >= bin_threshold :\n",
        "                print(x, y, r,(v/total_vote))\n",
        "                out_circles.append((x, y, r,v / total_vote))\n",
        "\n",
        "\n",
        "    # This step further narrows down our candidates by eliminating very nearby circles \n",
        "    # and only keeps circles which are far from each other by a pixel_threshold\n",
        "    if post_process :\n",
        "        pixel_threshold = 5\n",
        "        postprocess_circles = []\n",
        "        for x, y, r, v in out_circles:\n",
        "            if all(abs(x - xc) > pixel_threshold or abs(y - yc) > pixel_threshold or abs(r - rc) > pixel_threshold for xc, yc, rc, v in postprocess_circles):\n",
        "                postprocess_circles.append((x, y, r, v))\n",
        "        out_circles = postprocess_circles\n",
        "\n",
        "\n",
        "    for x, y, r, v in out_circles:\n",
        "        output_img = cv2.circle(output_img, (x,y), r, (123,15,125), 2)\n",
        "\n",
        "    return output_img, out_circles\n"
      ],
      "execution_count": 2,
      "outputs": []
    },
    {
      "cell_type": "markdown",
      "metadata": {
        "id": "4kX-WpInBP7l"
      },
      "source": [
        "Click on Runtime and select Run all before submitting this file."
      ]
    },
    {
      "cell_type": "code",
      "metadata": {
        "colab": {
          "base_uri": "https://localhost:8080/",
          "height": 820
        },
        "id": "3rJ9N8gT4xuy",
        "outputId": "7d6578f9-453c-4c49-d4d7-200b387fba8a"
      },
      "source": [
        "###################################################################\n",
        "## Try to vary these values and observe the change in output   ###\n",
        "## The best values may or may not be the given values          ####\n",
        "r_min = 10\n",
        "r_max = 200\n",
        "delta_r = 1\n",
        "num_thetas = 100\n",
        "bin_threshold = 0.4\n",
        "min_edge_threshold = 100\n",
        "max_edge_threshold = 200\n",
        "###################################################################\n",
        "\n",
        "input_img = cv2.imread('pic2.png')\n",
        "edge_image = cv2.cvtColor(input_img, cv2.COLOR_BGR2GRAY)\n",
        "edge_image = cv2.Canny(edge_image, min_edge_threshold, max_edge_threshold)\n",
        "cv2_imshow(edge_image)\n",
        "cv2.waitKey(0)\n",
        "\n",
        "if edge_image is not None:\n",
        "    \n",
        "    print (\"Detecting Hough Circles Started!\")\n",
        "    circle_img, circles = find_hough_circles(input_img, edge_image, r_min, r_max, delta_r, num_thetas, bin_threshold)\n",
        "    cv2_imshow( circle_img)\n",
        "    cv2.waitKey(0)\n",
        "    \n",
        "    \n",
        "else:\n",
        "    print (\"Error in input image!\")\n",
        "        \n",
        "print (\"Detecting Hough Circles Complete!\")\n"
      ],
      "execution_count": 3,
      "outputs": [
        {
          "output_type": "display_data",
          "data": {
            "image/png": "[encoded data removed]",
            "text/plain": [
              "<PIL.Image.Image image mode=L size=384x384 at 0x7F80D7149BD0>"
            ]
          },
          "metadata": {}
        },
        {
          "output_type": "stream",
          "name": "stdout",
          "text": [
            "Detecting Hough Circles Started!\n"
          ]
        },
        {
          "output_type": "display_data",
          "data": {
            "image/png": "[encoded data removed]",
            "text/plain": [
              "<PIL.Image.Image image mode=RGB size=384x384 at 0x7F80D7097CD0>"
            ]
          },
          "metadata": {}
        },
        {
          "output_type": "stream",
          "name": "stdout",
          "text": [
            "Detecting Hough Circles Complete!\n"
          ]
        }
      ]
    },
    {
      "cell_type": "code",
      "metadata": {
        "id": "GeRdANJxlOtK"
      },
      "source": [
        ""
      ],
      "execution_count": null,
      "outputs": []
    }
  ]
}