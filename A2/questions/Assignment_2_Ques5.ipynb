{
  "nbformat": 4,
  "nbformat_minor": 0,
  "metadata": {
    "colab": {
      "name": "Assignment_2_Ques5.ipynb",
      "provenance": []
    },
    "kernelspec": {
      "name": "python3",
      "display_name": "Python 3"
    },
    "language_info": {
      "name": "python"
    }
  },
  "cells": [
    {
      "cell_type": "code",
      "metadata": {
        "id": "UrgBO4dvwdEA"
      },
      "source": [
        "# Copyright 2021 IITK EE604A Image Processing. All Rights Reserved.\n",
        "# \n",
        "# Licensed under the MIT License. Use and/or modification of this code outside of EE604 must reference:\n",
        "#\n",
        "# © IITK EE604A Image Processing \n",
        "#\n",
        "# Author: Dheeraj Bharti, Chiranjeev Prachand and Prof Tushar Sandhan, Department of Electrical Engineering, IIT Kanpur"
      ],
      "execution_count": null,
      "outputs": []
    },
    {
      "cell_type": "markdown",
      "metadata": {
        "id": "sbAq7VIIwkrC"
      },
      "source": [
        "Did you notice the slow speeds of the previous parts where lines and circles are detected using Hough Transform.\n",
        "\n",
        "You can calculate run time of the previous codes using time() function in time module.\n",
        "\n",
        "List atleast three reasons for the algorithm taking so much time."
      ]
    },
    {
      "cell_type": "code",
      "metadata": {
        "id": "Xc2XFuTUxbqT"
      },
      "source": [
        "reasons = \"...\"   #Replace ... by your reasons\n",
        "print(reasons)"
      ],
      "execution_count": null,
      "outputs": []
    },
    {
      "cell_type": "markdown",
      "metadata": {
        "id": "GoenKN2_xVQD"
      },
      "source": [
        "Suggest atleast two methods to speed up the algorithm."
      ]
    },
    {
      "cell_type": "code",
      "metadata": {
        "id": "O-vVRDFPx1WZ"
      },
      "source": [
        "methods = \"...\"   #Replace ... by your methods\n",
        "print(reasons)"
      ],
      "execution_count": null,
      "outputs": []
    },
    {
      "cell_type": "markdown",
      "metadata": {
        "id": "yqkHQ924x6K0"
      },
      "source": [
        "Implement any one of the above methods on either line or circle detection code (your own code) and calculate the time taken by your method."
      ]
    },
    {
      "cell_type": "code",
      "metadata": {
        "id": "PUDGtEahyMfy"
      },
      "source": [
        ""
      ],
      "execution_count": null,
      "outputs": []
    }
  ]
}