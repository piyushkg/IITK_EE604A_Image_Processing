{
 "cells": [
  {
   "cell_type": "code",
   "execution_count": 9,
   "metadata": {
    "id": "am3XmTbHMMqh"
   },
   "outputs": [],
   "source": [
    "# Copyright 2021 IITK EE604A Image Processing. All Rights Reserved.\n",
    "# \n",
    "# Licensed under the MIT License. Use and/or modification of this code outside of EE604 must reference:\n",
    "#\n",
    "# © IITK EE604A Image Processing \n",
    "#\n",
    "# Author: Dheeraj Bharti, Chiranjeev Prachand and Prof T. Sandhan, Department of Electrical Engineering, IIT Kanpur"
   ]
  },
  {
   "cell_type": "markdown",
   "metadata": {
    "id": "Gz4CDTgOMVF1"
   },
   "source": [
    "Q2. Canny Edge Detection\n",
    "\n",
    "In this question we will implement the canny edge detector. For the resources you can refer to the class slides or some links given below.\n",
    "\n",
    "References:\n",
    "\n",
    "1) Canny, J., A Computational Approach To Edge Detection, IEEE Transactions on Pattern Analysis and Machine Intelligence, 8(6):679–698, 1986.\n",
    "\n",
    "2)  Zhou, P., Ye, W., & Wang, Q. (2011). An Improved Canny Algorithm for Edge Detection. Journal of Computational Information Systems, 7(5), 1516-1523.\n",
    "\n",
    "3) https://docs.opencv.org/4.5.1/da/d22/tutorial_py_canny.html\n",
    "\n",
    "4) http://masters.donntu.org/2010/fknt/chudovskaja/library/article5.htm\n",
    "\n",
    "4) https://en.wikipedia.org/wiki/Canny_edge_detector"
   ]
  },
  {
   "cell_type": "code",
   "execution_count": 10,
   "metadata": {
    "id": "GP_9gxWVfvkO"
   },
   "outputs": [],
   "source": [
    "import cv2\n",
    "import numpy as np\n",
    "import matplotlib.pyplot as plt\n",
    "import math"
   ]
  },
  {
   "cell_type": "code",
   "execution_count": 11,
   "metadata": {
    "id": "lwM82biiMWEO"
   },
   "outputs": [],
   "source": [
    "def gaussianFilter(img, kernel_size=5, sigma=3):\n",
    "    '''\n",
    "    Write a program to implement gaussian filter. You have to assume square kernels.\n",
    "    \n",
    "    Inputs:\n",
    "    + img - grayscaled image of size N x N\n",
    "          - values between [0, 255] - 'uint8'\n",
    "    + kernel_size - size of the kernel window which should be used for smoothing. \n",
    "    + sigma - sigma parameter for gaussian kernel\n",
    "    \n",
    "    Ouputs:\n",
    "    + out_img - smoothed grayscaled image of size N x N\n",
    "              - values between [0, 255] - 'uint8'\n",
    "    \n",
    "    Allowed modules:\n",
    "    + Basic numpy operations\n",
    "    + cv2.filter2D() to perform 2D convolution\n",
    "    + cv2.getGaussianKernel(). Note that this will give you 1D gaussian.\n",
    "    \n",
    "    Hint:\n",
    "    + Not needed.\n",
    "    \n",
    "    '''\n",
    "    \n",
    "    #############################\n",
    "    # Start your code from here #\n",
    "    #############################\n",
    "    \n",
    "    # Replace with your code...\n",
    "\n",
    "    #############################\n",
    "    # End your code here ########\n",
    "    #############################    \n",
    "    \n",
    "    return out_img"
   ]
  },
  {
   "cell_type": "code",
   "execution_count": 12,
   "metadata": {
    "id": "G5ftCzRCOmor"
   },
   "outputs": [],
   "source": [
    "def detect_edge_canny(img, lt, ht):\n",
    "  '''\n",
    "  Write a program to detect egdes using the canny algorithm. Pseudo code is given\n",
    "  for your help\n",
    "\n",
    "  Inputs:\n",
    "  - img     - np array of guassian filttered grayscale image\n",
    "  - lt      - lower threshold for hysteresis linking\n",
    "  - ht      - higher threshold for hysteresis linking\n",
    "\n",
    "  Outputs:\n",
    "  - img_edge  - np array of the image with edges\n",
    "\n",
    "  Allowed modules:\n",
    "  - Numpy, cv, math\n",
    "  - you are not allowed to use cv2.Canny() or any other direct implementations\n",
    "\n",
    "  '''\n",
    "\n",
    "  #############################\n",
    "  # Start your code from here #\n",
    "  #############################\n",
    "    \n",
    "  # 1) Start with filtering the image with Sobel kernel both in x and y direction\n",
    "  #    and store the images as Mx and My.\n",
    "\n",
    "    \n",
    "    \n",
    "  # 2) Find the gradient magnitude M and angle theta for each pixel by formulas \n",
    "  #    explained in lecture. Also round off the angle to 0, 45, 90, 135 degrees.\n",
    "\n",
    "\n",
    "    \n",
    "  # 3) Non maximum Supression -\n",
    "  #   3.1) Check if every pixel is local maximum in the gradient direction theta\n",
    "  #   3.2) if it is maximum take that pixel as edge make the value 255 and assign\n",
    "  #        zero to all other pixels in that direction. so that we get a single \n",
    "  #        pixel edge\n",
    "\n",
    "\n",
    "\n",
    "  # 4) Linking - \n",
    "  #    use the process of hysteresis linking explained in the lecture for discarding\n",
    "  #    weak edges and selecting the strong edges using the threshold lt and ht\n",
    "    \n",
    "    \n",
    "\n",
    "  #############################\n",
    "  # End your code here ########\n",
    "  #############################    \n",
    "    \n",
    "  return img_edge"
   ]
  },
  {
   "cell_type": "code",
   "execution_count": null,
   "metadata": {
    "id": "EZ_H5LFQfU8w"
   },
   "outputs": [],
   "source": [
    "im = cv2.imread('im2.jpg')\n",
    "im1 = cv2.cvtColor(im, cv2.COLOR_BGR2GRAY)\n",
    "im2 = gaussianFilter(im1, 5, 1.4)\n",
    "im_edge = detect_edge_canny(im2, 50, 100)\n",
    "\n",
    "\n",
    "plt.subplot(121),plt.imshow(im1,cmap = 'gray')\n",
    "plt.title('Original Image')\n",
    "plt.subplot(122),plt.imshow(im_edge,cmap = 'gray')\n",
    "plt.title('Edge Image')\n",
    "plt.show()"
   ]
  }
 ],
 "metadata": {
  "colab": {
   "collapsed_sections": [],
   "name": "Assignment_2_Ques2.ipynb",
   "provenance": []
  },
  "kernelspec": {
   "display_name": "Python 3",
   "language": "python",
   "name": "python3"
  },
  "language_info": {
   "codemirror_mode": {
    "name": "ipython",
    "version": 3
   },
   "file_extension": ".py",
   "mimetype": "text/x-python",
   "name": "python",
   "nbconvert_exporter": "python",
   "pygments_lexer": "ipython3",
   "version": "3.8.8"
  }
 },
 "nbformat": 4,
 "nbformat_minor": 1
}
