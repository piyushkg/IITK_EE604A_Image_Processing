{
 "cells": [
  {
   "cell_type": "code",
   "execution_count": 1,
   "metadata": {
    "id": "bi8w52wYGpE-"
   },
   "outputs": [],
   "source": [
    "# Copyright 2021 IITK EE604A Image Processing. All Rights Reserved.\n",
    "# \n",
    "# Licensed under the MIT License. Use and/or modification of this code outside of EE604 must reference:\n",
    "#\n",
    "# © IITK EE604A Image Processing \n",
    "#\n",
    "# Author: Dheeraj Bharti, Chiranjeev Prachand and Prof T. Sandhan, Department of Electrical Engineering, IIT Kanpur"
   ]
  },
  {
   "cell_type": "markdown",
   "metadata": {
    "id": "zXbJZNn6IU86"
   },
   "source": [
    "Q1. Colour processing\n",
    "\n",
    "In this question, first we will change image from RGB colour space to Gray and HSV colour space. then in the second part we have to write a program which will delete a particular colour from a coloured image and the reverse problem, in which it will delete all colours but one from a coloured image.\n",
    "\n",
    "Some references:\n",
    "\n",
    "1) https://docs.opencv.org/4.5.1/df/d9d/tutorial_py_colorspaces.html\n",
    "\n",
    "2) https://docs.opencv.org/4.5.1/de/d25/imgproc_color_conversions.html\n",
    "\n",
    "3) https://en.wikipedia.org/wiki/HSL_and_HSV#Color_conversion_formulae"
   ]
  },
  {
   "cell_type": "code",
   "execution_count": 2,
   "metadata": {
    "id": "GVNfvnWDTp6I"
   },
   "outputs": [],
   "source": [
    "import cv2 \n",
    "import numpy as np\n",
    "import matplotlib.pyplot as plt\n"
   ]
  },
  {
   "cell_type": "code",
   "execution_count": 3,
   "metadata": {
    "id": "I8nGIZdWHWvL"
   },
   "outputs": [],
   "source": [
    "def bgr2gray(img):\n",
    "  ''' \n",
    "  Write a program which takes an 3 channel uint8 np array of color image and \n",
    "  convertes it to a single channel uint8 np array of gray image.\n",
    "\n",
    "  Input:\n",
    "  - img - 3 Channel uint8 np array in order bgr\n",
    "\n",
    "  Output: \n",
    "  - gray_img - single channel uint8 np array gray image.\n",
    "\n",
    "  Allowed modules:\n",
    "  - Numpy, Math(if needed)\n",
    "  - you are not allowed to use any cv functions or direct implementations.\n",
    "\n",
    "  '''\n",
    "\n",
    "  #############################\n",
    "  # Start your code from here #\n",
    "  #############################\n",
    "\n",
    "  # Replace with your code...\n",
    "    \n",
    "  #############################\n",
    "  # End your code here ########\n",
    "  #############################    \n",
    "    \n",
    "  return gray_img"
   ]
  },
  {
   "cell_type": "code",
   "execution_count": 4,
   "metadata": {
    "id": "vPrXYhq_XGlM"
   },
   "outputs": [],
   "source": [
    "def bgr2hsv(img):\n",
    "  ''' \n",
    "  Write a program which takes an 3 channel uint8 np array of image in BGR space \n",
    "  and convertes it to a 3 channel uint8 np array of image in HSV space.\n",
    "\n",
    "  Input:\n",
    "  - img - 3 Channel uint8 np array in order bgr\n",
    "\n",
    "  Output: \n",
    "  - out_img - 3 channel uint8 np array image in HSV order.\n",
    "\n",
    "  Allowed modules:\n",
    "  - Numpy, Math(if needed)\n",
    "  - you are not allowed to use any cv functions or direct implementations.\n",
    "\n",
    "  '''\n",
    "\n",
    "  #############################\n",
    "  # Start your code from here #\n",
    "  #############################\n",
    "\n",
    "  # Replace with your code...\n",
    "    \n",
    "  #############################\n",
    "  # End your code here ########\n",
    "  #############################    \n",
    "    \n",
    "  return out_img"
   ]
  },
  {
   "cell_type": "code",
   "execution_count": 5,
   "metadata": {
    "id": "zYCwZz5MYWdc"
   },
   "outputs": [],
   "source": [
    "def filter_color(img, color):\n",
    "  '''\n",
    "  Write a program takes a coloured image and returns a colored image filtering a\n",
    "  specific colour from it. The ouput image will not cosists of that one colour,\n",
    "  but other colours are not affected. \n",
    "  For example, if the image is of rainbow and we choose to filter orange colour \n",
    "  then the output image will consists of all colours except orange, the pixels \n",
    "  containing the orange colors are converted to gray.\n",
    "\n",
    "  Inputs:\n",
    "  - img     - 3 channel uint8 np array containg an image in bgr format\n",
    "  - color   - the 3x1 array containg the bgr values of colour which is to be\n",
    "              filtered from image\n",
    "\n",
    "  Output:\n",
    "  - out_img - 3 channel uint8 np array containg colour filtered image in RGB format\n",
    "\n",
    "  Allowed modules:\n",
    "  - Numpy, cv, math(if required).\n",
    "  - You are not allowed to use any direct implimentations.\n",
    "\n",
    "  Hint:\n",
    "  - Use HSV colour space to find the pixels containing that colour\n",
    "\n",
    "  '''\n",
    "  #############################\n",
    "  # Start your code from here #\n",
    "  #############################\n",
    "\n",
    "  # Replace with your code...\n",
    "    \n",
    "  #############################\n",
    "  # End your code here ########\n",
    "  #############################    \n",
    "    \n",
    "  return out_img\n"
   ]
  },
  {
   "cell_type": "code",
   "execution_count": 6,
   "metadata": {
    "id": "6FWoyAsohLTS"
   },
   "outputs": [],
   "source": [
    "def color_pop(img, color):\n",
    "  '''\n",
    "  Write a program which pops a particular colour in a coloured image. This problem \n",
    "  is inverse to the previous one. Here all the colours are converted to gray \n",
    "  except the color given.\n",
    "  \n",
    "  Inputs:\n",
    "  - img     - 3 channel uint8 np array containg an image in bgr format\n",
    "  - color   - the 3x1 array containg the bgr values of colour which is to be\n",
    "              popped in image\n",
    "\n",
    "  Output:\n",
    "  - out_img - 3 channel uint8 np array containg colour popped image in RGB format\n",
    "\n",
    "  Allowed modules:\n",
    "  - Numpy, cv, math(if required).\n",
    "  - You are not allowed to use any direct implimentations.\n",
    "\n",
    "  Hint:\n",
    "  - Use HSV colour space to find the pixels containing that colour\n",
    "\n",
    "  '''\n",
    "  #############################\n",
    "  # Start your code from here #\n",
    "  #############################\n",
    "    \n",
    "  # Replace with your code...\n",
    "\n",
    "  #############################\n",
    "  # End your code here ########\n",
    "  #############################    \n",
    "    \n",
    "  return out_img\n",
    "\n",
    "\n"
   ]
  },
  {
   "cell_type": "code",
   "execution_count": 7,
   "metadata": {
    "id": "K9nzp4nrmmeU"
   },
   "outputs": [
    {
     "ename": "NameError",
     "evalue": "name 'gray_img' is not defined",
     "output_type": "error",
     "traceback": [
      "\u001b[0;31m---------------------------------------------------------------------------\u001b[0m",
      "\u001b[0;31mNameError\u001b[0m                                 Traceback (most recent call last)",
      "\u001b[0;32m<ipython-input-7-ca8c4e3641c2>\u001b[0m in \u001b[0;36m<module>\u001b[0;34m\u001b[0m\n\u001b[1;32m      4\u001b[0m \u001b[0mim4\u001b[0m \u001b[0;34m=\u001b[0m \u001b[0mcv2\u001b[0m\u001b[0;34m.\u001b[0m\u001b[0mimread\u001b[0m\u001b[0;34m(\u001b[0m\u001b[0;34m\"im1_4.jpg\"\u001b[0m\u001b[0;34m)\u001b[0m\u001b[0;34m\u001b[0m\u001b[0;34m\u001b[0m\u001b[0m\n\u001b[1;32m      5\u001b[0m \u001b[0;34m\u001b[0m\u001b[0m\n\u001b[0;32m----> 6\u001b[0;31m \u001b[0mim1_gray\u001b[0m \u001b[0;34m=\u001b[0m \u001b[0mbgr2gray\u001b[0m\u001b[0;34m(\u001b[0m\u001b[0mim1\u001b[0m\u001b[0;34m)\u001b[0m\u001b[0;34m\u001b[0m\u001b[0;34m\u001b[0m\u001b[0m\n\u001b[0m\u001b[1;32m      7\u001b[0m \u001b[0mim2_hsv\u001b[0m \u001b[0;34m=\u001b[0m \u001b[0mbgr2hsv\u001b[0m\u001b[0;34m(\u001b[0m\u001b[0mim2\u001b[0m\u001b[0;34m)\u001b[0m\u001b[0;34m\u001b[0m\u001b[0;34m\u001b[0m\u001b[0m\n\u001b[1;32m      8\u001b[0m \u001b[0mim3_filtered\u001b[0m \u001b[0;34m=\u001b[0m \u001b[0mfilter_color\u001b[0m\u001b[0;34m(\u001b[0m\u001b[0mim3\u001b[0m\u001b[0;34m,\u001b[0m \u001b[0;34m[\u001b[0m\u001b[0;36m0\u001b[0m\u001b[0;34m,\u001b[0m \u001b[0;36m165\u001b[0m\u001b[0;34m,\u001b[0m \u001b[0;36m255\u001b[0m\u001b[0;34m]\u001b[0m\u001b[0;34m)\u001b[0m\u001b[0;34m\u001b[0m\u001b[0;34m\u001b[0m\u001b[0m\n",
      "\u001b[0;32m<ipython-input-3-c96653e80191>\u001b[0m in \u001b[0;36mbgr2gray\u001b[0;34m(img)\u001b[0m\n\u001b[1;32m     26\u001b[0m   \u001b[0;31m#############################\u001b[0m\u001b[0;34m\u001b[0m\u001b[0;34m\u001b[0m\u001b[0;34m\u001b[0m\u001b[0m\n\u001b[1;32m     27\u001b[0m \u001b[0;34m\u001b[0m\u001b[0m\n\u001b[0;32m---> 28\u001b[0;31m   \u001b[0;32mreturn\u001b[0m \u001b[0mgray_img\u001b[0m\u001b[0;34m\u001b[0m\u001b[0;34m\u001b[0m\u001b[0m\n\u001b[0m",
      "\u001b[0;31mNameError\u001b[0m: name 'gray_img' is not defined"
     ]
    }
   ],
   "source": [
    "im1 = cv2.imread(\"im1_1.jpg\")\n",
    "im2 = cv2.imread(\"im1_2.jpg\")\n",
    "im3 = cv2.imread(\"im1_3.jpg\")\n",
    "im4 = cv2.imread(\"im1_4.jpg\")\n",
    "\n",
    "im1_gray = bgr2gray(im1)\n",
    "im2_hsv = bgr2hsv(im2)\n",
    "im3_filtered = filter_color(im3, [0, 165, 255])\n",
    "im4_pop = color_pop(im4, [0, 255, 0])\n",
    "\n",
    "im1 = cv2.cvtColor(im1, cv2.COLOR_BGR2RGB)\n",
    "im2 = cv2.cvtColor(im2, cv2.COLOR_BGR2RGB)\n",
    "im3 = cv2.cvtColor(im3, cv2.COLOR_BGR2RGB)\n",
    "im4 = cv2.cvtColor(im4, cv2.COLOR_BGR2RGB)\n",
    "\n",
    "plt.subplot(4, 2, 1)\n",
    "plt.imshow(im1)\n",
    "plt.subplot(4, 2, 2)\n",
    "plt.imshow(im1_gray, cmap='gray')\n",
    "plt.subplot(4, 2, 3)\n",
    "plt.imshow(im2)\n",
    "plt.subplot(4, 2, 4)\n",
    "plt.imshow(im2_hsv, cmap='hsv')\n",
    "plt.subplot(4, 2, 5)\n",
    "plt.imshow(im3)\n",
    "plt.subplot(4, 2, 6)\n",
    "plt.imshow(im3_filtered)\n",
    "plt.subplot(4, 2, 7)\n",
    "plt.imshow(im4)\n",
    "plt.subplot(4, 2, 8)\n",
    "plt.imshow(im4_pop)\n",
    "plt.show()\n",
    "\n"
   ]
  },
  {
   "cell_type": "code",
   "execution_count": null,
   "metadata": {},
   "outputs": [],
   "source": []
  }
 ],
 "metadata": {
  "colab": {
   "collapsed_sections": [],
   "name": "Assignment_2_Ques1",
   "provenance": []
  },
  "kernelspec": {
   "display_name": "Python 3",
   "language": "python",
   "name": "python3"
  },
  "language_info": {
   "codemirror_mode": {
    "name": "ipython",
    "version": 3
   },
   "file_extension": ".py",
   "mimetype": "text/x-python",
   "name": "python",
   "nbconvert_exporter": "python",
   "pygments_lexer": "ipython3",
   "version": "3.8.8"
  }
 },
 "nbformat": 4,
 "nbformat_minor": 1
}
