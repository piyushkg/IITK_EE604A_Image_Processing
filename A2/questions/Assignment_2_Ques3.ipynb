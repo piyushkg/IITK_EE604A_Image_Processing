{
 "cells": [
  {
   "cell_type": "code",
   "execution_count": null,
   "metadata": {
    "id": "9Y7DlZscqZUR"
   },
   "outputs": [],
   "source": [
    "# Copyright 2021 IITK EE604A Image Processing. All Rights Reserved.\n",
    "# \n",
    "# Licensed under the MIT License. Use and/or modification of this code outside of EE604 must reference:\n",
    "#\n",
    "# © IITK EE604A Image Processing \n",
    "#\n",
    "# Author: Dheeraj Bharti, Chiranjeev Prachand and Prof Tushar Sandhan, Department of Electrical Engineering, IIT Kanpur"
   ]
  },
  {
   "cell_type": "code",
   "execution_count": null,
   "metadata": {
    "id": "OTLEeyLg7eIQ"
   },
   "outputs": [],
   "source": [
    "## References for Question 3, Question 4 and Question 5\n",
    "## https://medium.com/jun-devpblog/cv-6-structure-extraction-with-hough-transform-line-circle-aaf8be62f169\n",
    "## https://homepages.inf.ed.ac.uk/rbf/HIPR2/hough.htm"
   ]
  },
  {
   "cell_type": "code",
   "execution_count": 6,
   "metadata": {
    "id": "93kEfD2aK9oW"
   },
   "outputs": [],
   "source": [
    "import numpy as np\n",
    "import imageio\n",
    "import math\n",
    "import matplotlib.pyplot as plt"
   ]
  },
  {
   "cell_type": "markdown",
   "metadata": {
    "id": "xqLtR90DtZVd"
   },
   "source": [
    "Upload 'pic1.png' file manually to your google colab working directory:\n",
    "\n",
    "1. Click on the folder drawing button on the left below the <> sign.\n",
    "2. Click on Upload to session storage button to upload the image."
   ]
  },
  {
   "cell_type": "code",
   "execution_count": null,
   "metadata": {
    "id": "9uJUq8U0tQYq"
   },
   "outputs": [],
   "source": [
    "img = imageio.imread('pic1.png')       "
   ]
  },
  {
   "cell_type": "code",
   "execution_count": 5,
   "metadata": {},
   "outputs": [
    {
     "name": "stdout",
     "output_type": "stream",
     "text": [
      "256\n",
      "256\n",
      "362\n"
     ]
    }
   ],
   "source": [
    "angle_step=1\n",
    "thetas = np.deg2rad(np.arange(-90.0, 90.0, angle_step))\n",
    "num_thetas = len(thetas) \n",
    "width, height = img.shape\n",
    "diag_len = int(round(math.sqrt(width * width + height * height)))\n",
    "print(width)\n",
    "print(height)\n",
    "print(diag_len)\n",
    "rhos = np.linspace(-diag_len, diag_len, diag_len * 2)"
   ]
  },
  {
   "cell_type": "code",
   "execution_count": 10,
   "metadata": {},
   "outputs": [
    {
     "data": {
      "text/plain": [
       "(724,)"
      ]
     },
     "execution_count": 10,
     "metadata": {},
     "output_type": "execute_result"
    }
   ],
   "source": [
    "rhos.shape"
   ]
  },
  {
   "cell_type": "markdown",
   "metadata": {
    "id": "X6JBLpC4r-B4"
   },
   "source": [
    "Please refer lecture slides for hints for applying the algorithm.\n",
    "\n",
    "Also, for clarity, looking at every variable's values and dimensions is recommended."
   ]
  },
  {
   "cell_type": "code",
   "execution_count": null,
   "metadata": {
    "id": "8W4oSR2YLDKR"
   },
   "outputs": [],
   "source": [
    "def line_detect_hough(img, angle_step=1, lines_are_white=True, value_threshold=5):\n",
    "    \n",
    "    \"\"\"\n",
    "    Input:\n",
    "\n",
    "    img - 2-D binary image\n",
    "    \n",
    "    angle_step - Spacing between angles between -90 and 90 degrees. Default step is 1.\n",
    "\n",
    "    lines_are_white - boolean indicating whether lines to be detected are white\n",
    "\n",
    "    value_threshold - Pixel values above or below the value_threshold are edges\n",
    "\n",
    "    Returns:\n",
    "    \n",
    "    accumulator - 2D array of the hough transform accumulator\n",
    "    \n",
    "    theta - Array of angles used in computation, in radians.\n",
    "    \n",
    "    rhos - Array of rho values. Max size is 2 times the diagonal\n",
    "           distance of the input image.\n",
    "    \"\"\"\n",
    "\n",
    "    thetas = np.deg2rad(np.arange(-90.0, 90.0, angle_step))\n",
    "    num_thetas = len(thetas) \n",
    "    width, height = img.shape\n",
    "    diag_len = int(round(math.sqrt(width * width + height * height)))\n",
    "    rhos = np.linspace(-diag_len, diag_len, diag_len * 2)\n",
    "    \n",
    "\n",
    "    #######################################################################\n",
    "    # Write code according to the instruction written infront of the line.\n",
    "    #######################################################################\n",
    "\n",
    "    # Write your code here #    ## Using numpy function np.cos, calculate cosine values of theta and store in variable cos_t ## \n",
    "    # Write your code here #    ## Using numpy function np.sin, calculate sine values of theta and store in variable sin_t ##\n",
    "    \n",
    "\n",
    "    #######################################################################\n",
    "    # Write code according to the instruction written infront of the line.\n",
    "    #######################################################################\n",
    "    \n",
    "    \n",
    "    # Write your code here #    ## Using numpy, declare a zero matrix of Hough accumulator array #\n",
    "                                 # of theta vs rho of size (2*diag_len, num_thetas), keep dtype=np.uint8, name it accumulator ##\n",
    "    \n",
    "  \n",
    "    #######################################################################\n",
    "    # Write code according to the instruction written infront of the line.\n",
    "    #######################################################################\n",
    "    \n",
    "    # Write your code here #    ## In the img matrix, find where are black and white pixels # \n",
    "                                 # and store the indexes of the white edge pixels in x_idxs and y_idxs ##   \n",
    "    \n",
    "    \n",
    "\n",
    "    #######################################################################\n",
    "    # Write code according to the instruction written infront of the line.\n",
    "    #######################################################################\n",
    "    \n",
    "    # Write your code here #    ## Write a for loop inside a for loop to do voting in accumulator; the first one recurses through x_idxs #\n",
    "                                 # the second one recurses through thetas; in which  #\n",
    "                                 # for every value of thetas[i], calculate rho value using rho = diag_len + int(round(x * cos_t[i] + y * sin_t[i])) formula #\n",
    "                                 # and increment the accumulator for that specific (rho, theta)\n",
    "    \n",
    "    \n",
    "    return accumulator, thetas, rhos"
   ]
  },
  {
   "cell_type": "code",
   "execution_count": null,
   "metadata": {
    "id": "rlFhMkYjLPJ6"
   },
   "outputs": [],
   "source": [
    "## Do not change anything in this block ##\n",
    "\n",
    "def display_hough(img, accumulator, thetas, rhos, save_path=None):\n",
    "    \n",
    "    fig, ax = plt.subplots(1, 2, figsize=(10, 20))\n",
    "\n",
    "    ax[0].imshow(img, cmap=plt.cm.gray)\n",
    "    ax[0].set_title('Input image')\n",
    "    ax[0].axis('image')\n",
    "\n",
    "    ax[1].imshow(\n",
    "        accumulator, cmap='jet',\n",
    "        extent=[np.rad2deg(thetas[-1]), np.rad2deg(thetas[0]), rhos[-1], rhos[0]])\n",
    "    ax[1].set_aspect('equal', adjustable='box')\n",
    "    ax[1].set_title('Hough transform')\n",
    "    ax[1].set_xlabel('Angles (degrees)')\n",
    "    ax[1].set_ylabel('Distance (pixels)')\n",
    "    ax[1].axis('image')\n"
   ]
  },
  {
   "cell_type": "markdown",
   "metadata": {
    "id": "vvJfmpLvUcOs"
   },
   "source": [
    "Click on Runtime and select Run all before submitting this file."
   ]
  },
  {
   "cell_type": "code",
   "execution_count": null,
   "metadata": {
    "id": "D_wZTofIMzuJ"
   },
   "outputs": [],
   "source": [
    "accumulator, thetas, rhos = line_detect_hough(img)\n",
    "display_hough(img, accumulator, thetas, rhos)"
   ]
  },
  {
   "cell_type": "code",
   "execution_count": null,
   "metadata": {
    "id": "3PuiWWTp0vz8"
   },
   "outputs": [],
   "source": [
    "## In this block, print the maxima(s) in the accumulator \n",
    "## and the rho,theta value(s) for which it occurs.\n",
    "## You are allowed to use the above functions and modify them inside this block (if required).\n",
    "\n",
    "\n",
    "\n",
    "\n",
    "\n",
    "# Write your code here #\n"
   ]
  }
 ],
 "metadata": {
  "colab": {
   "collapsed_sections": [],
   "name": "Assignment_2_Ques3.ipynb",
   "provenance": []
  },
  "kernelspec": {
   "display_name": "Python 3",
   "language": "python",
   "name": "python3"
  },
  "language_info": {
   "codemirror_mode": {
    "name": "ipython",
    "version": 3
   },
   "file_extension": ".py",
   "mimetype": "text/x-python",
   "name": "python",
   "nbconvert_exporter": "python",
   "pygments_lexer": "ipython3",
   "version": "3.8.8"
  }
 },
 "nbformat": 4,
 "nbformat_minor": 1
}
