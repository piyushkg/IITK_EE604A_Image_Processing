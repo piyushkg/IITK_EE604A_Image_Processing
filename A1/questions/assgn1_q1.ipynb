{
 "cells": [
  {
   "cell_type": "code",
   "execution_count": null,
   "metadata": {
    "id": "SYthSHOzk5cX"
   },
   "outputs": [],
   "source": [
    "# Copyright 2021 IITK EE604A Image Processing. All Rights Reserved.\n",
    "# \n",
    "# Licensed under the MIT License. Use and/or modification of this code outside of EE604 must reference:\n",
    "#\n",
    "# © IITK EE604A Image Processing \n",
    "#\n",
    "# Author: Dheeraj Bharti, Chiranjeev Prachand and Prof K. S. Venkatesh, Department of Electrical Engineering, IIT Kanpur"
   ]
  },
  {
   "cell_type": "markdown",
   "metadata": {
    "id": "OL39cjeemAFS"
   },
   "source": [
    "Question 1.\n",
    "\n",
    "In this question, we create an image by creating a matrix using numpy module. There are two subparts, one creates a binary image consisting of only 2 levels. and second a coloured image."
   ]
  },
  {
   "cell_type": "code",
   "execution_count": null,
   "metadata": {
    "id": "i6ovT_B2nJXT"
   },
   "outputs": [],
   "source": [
    "import numpy as np\n",
    "import cv2"
   ]
  },
  {
   "cell_type": "code",
   "execution_count": null,
   "metadata": {
    "id": "NveWVIFJnTdq"
   },
   "outputs": [],
   "source": [
    "def binary_shapes()\n",
    "  '''\n",
    "  Write a program to generate a binary image of 512 x 512 pixels. The image should have a black (pixel value 0) boundary having a width of 40 pixels. \n",
    "  After the black boundary, create a white (pixel value 255) square. Inside this square, create a black circle having the diameter equal to the length \n",
    "  of the square. Lastly create a white equilateral triangle inscribed within the circle.\n",
    "\n",
    "  Inputs:\n",
    "  no inputs\n",
    "\n",
    "  Outputs: \n",
    "  out_img - numpy array (of dtype np.uint8) containing the output image.\n",
    "  \n",
    "  Allowed external package:\n",
    "    + You cannot use cv2.circle to draw circle and cv2.fillPoly() to draw triangle . \n",
    "    + You are not allowed to use any other external package.\n",
    "\n",
    "  '''\n",
    "\n",
    "  out_img = np.zeros((512, 512), dtype=np.uint8) # Intialise with blank display\n",
    "    \n",
    "  #############################\n",
    "  # Start your code from here #\n",
    "  #############################\n",
    "    \n",
    "  # Replace with your code...\n",
    "    \n",
    "  #############################\n",
    "  # End your code here ########\n",
    "  #############################    \n",
    "    \n",
    "  return np.uint8(out_img)"
   ]
  },
  {
   "cell_type": "code",
   "execution_count": null,
   "metadata": {
    "id": "EMmj9TEpqrub"
   },
   "outputs": [],
   "source": [
    "# Test Run\n",
    "img = binary_shapes()\n",
    "cv2_imshow(img)"
   ]
  },
  {
   "cell_type": "code",
   "execution_count": null,
   "metadata": {
    "id": "vampjMYMs14c"
   },
   "outputs": [],
   "source": [
    "def color_shape()\n",
    "  '''\n",
    "  You have to create an image similar to the previous one but instead of binary this image will be coloured one. \n",
    "  An colour image consists of three matrix each for R,G,B channel. The shapes will remain same as the above image but the colour of boundary will be white,\n",
    "  squre should be in blue, cirlce should be in red and the triangle should be green. Create the R,G,B matrices respectively.\n",
    "\n",
    "  Inputs:\n",
    "  no inputs\n",
    "\n",
    "  Outputs: \n",
    "  out_img - numpy array (of dtype np.uint8) containing the output image.\n",
    "\n",
    "  Allowed external package:\n",
    "    + You cannot use cv2.circle to draw circle and cv2.fillPoly() to draw triangle . \n",
    "    + You are not allowed to use any other external package.\n",
    "\n",
    "  '''\n",
    "\n",
    "  r = np.zeros((512, 512), dtype=np.uint8) # Intialise the red channel matrix\n",
    "  g = np.zeros((512, 512), dtype=np.uint8) # Intialise the green channel matrix\n",
    "  b = np.zeros((512, 512), dtype=np.uint8) # Intialise the blue channel matrix\n",
    "\n",
    "  #############################\n",
    "  # Start your code from here #\n",
    "  #############################\n",
    "    \n",
    "  # Replace with your code...\n",
    "    \n",
    "  #############################\n",
    "  # End your code here ########\n",
    "  #############################    \n",
    "\n",
    "  out_img_2 = cv.merge((b,g,r))     #merging the r,g,b channels\n",
    "  return np.uint8(out_img_2)\n"
   ]
  },
  {
   "cell_type": "code",
   "execution_count": null,
   "metadata": {
    "id": "_wp3ocLzv3B1"
   },
   "outputs": [],
   "source": [
    "# Test Run\n",
    "img_1 = color_shape()\n",
    "cv2_imshow(img_1)"
   ]
  }
 ],
 "metadata": {
  "colab": {
   "name": "assgn1_q1.ipynb",
   "provenance": []
  },
  "kernelspec": {
   "display_name": "Python 3",
   "language": "python",
   "name": "python3"
  },
  "language_info": {
   "codemirror_mode": {
    "name": "ipython",
    "version": 3
   },
   "file_extension": ".py",
   "mimetype": "text/x-python",
   "name": "python",
   "nbconvert_exporter": "python",
   "pygments_lexer": "ipython3",
   "version": "3.8.8"
  }
 },
 "nbformat": 4,
 "nbformat_minor": 1
}
