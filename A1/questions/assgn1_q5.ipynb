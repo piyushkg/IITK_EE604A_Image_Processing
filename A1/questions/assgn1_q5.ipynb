{
  "nbformat": 4,
  "nbformat_minor": 0,
  "metadata": {
    "colab": {
      "name": "assg1_q5.ipynb",
      "provenance": [],
      "collapsed_sections": []
    },
    "kernelspec": {
      "name": "python3",
      "display_name": "Python 3"
    },
    "language_info": {
      "name": "python"
    }
  },
  "cells": [
    {
      "cell_type": "code",
      "metadata": {
        "id": "0Mf6EKPqluMQ"
      },
      "source": [
        "# Copyright 2021 IITK EE604A Image Processing. All Rights Reserved.\n",
        "# \n",
        "# Licensed under the MIT License. Use and/or modification of this code outside of EE604 must reference:\n",
        "#\n",
        "# © IITK EE604A Image Processing \n",
        "#\n",
        "# Author: Dheeraj Bharti, Chiranjeev Prachand and Prof K. S. Venkatesh, Department of Electrical Engineering, IIT Kanpur"
      ],
      "execution_count": null,
      "outputs": []
    },
    {
      "cell_type": "markdown",
      "metadata": {
        "id": "fa6UoBo8q3Fs"
      },
      "source": [
        "This part of the assignment deals with discrete Fourier transform as well as python programming."
      ]
    },
    {
      "cell_type": "markdown",
      "metadata": {
        "id": "ym4SSvriuTgE"
      },
      "source": [
        "## Instructions:\n",
        "\n",
        "Please rename this file with Your Roll No.\n",
        "\n",
        "1.   Only edit at \"### WRITE YOUR CODE HERE\"\n",
        "2.   Please rename this file with Your Roll No.\n",
        "3.   Render (Kernel > Restart & Run All) before submitting, so that we can see your graphs here\n",
        "\n",
        "\n"
      ]
    },
    {
      "cell_type": "code",
      "metadata": {
        "id": "nwaXJSySm0Ts"
      },
      "source": [
        "import cv2\n",
        "import numpy as np\n",
        "import matplotlib.pyplot as plt\n",
        "from skimage.io import imread, imshow\n",
        "from skimage.color import rgb2gray"
      ],
      "execution_count": null,
      "outputs": []
    },
    {
      "cell_type": "markdown",
      "metadata": {
        "id": "IkXCkltVwNvu"
      },
      "source": [
        "Upload 'pic1.png' and 'pic2.jpg' files manually to your google colab working directory:\n",
        "\n",
        "1. Click on the folder drawing button on the left below the <> sign.\n",
        "2. Click on Upload to session storage button to upload the images."
      ]
    },
    {
      "cell_type": "code",
      "metadata": {
        "id": "nSYupazAv3HQ"
      },
      "source": [
        "img = imread('pic1.PNG')"
      ],
      "execution_count": null,
      "outputs": []
    },
    {
      "cell_type": "markdown",
      "metadata": {
        "id": "GHr5qkY9xDEo"
      },
      "source": [
        "Run below code block to display the uploaded image."
      ]
    },
    {
      "cell_type": "code",
      "metadata": {
        "id": "LjX-NL1tukJG"
      },
      "source": [
        "img_gray = rgb2gray(img)\n",
        "plt.figure(num=None, figsize=(8, 6), dpi=80)\n",
        "plt.imshow(img_gray, cmap='gray');"
      ],
      "execution_count": null,
      "outputs": []
    },
    {
      "cell_type": "markdown",
      "metadata": {
        "id": "DOFEDY4vz_xW"
      },
      "source": [
        "Calculate the 2-D Fourier Transform of the input image\n",
        "\n"
      ]
    },
    {
      "cell_type": "code",
      "metadata": {
        "id": "STZSWufOz-o6"
      },
      "source": [
        "def dft_xs(img_gray):\n",
        "    '''\n",
        "    Inputs:\n",
        "        img_gray - Original image size N x N\n",
        "    Outputs:\n",
        "        Xs: magnitude spectrum of size N x N\n",
        "        fs: phase spectrum of size N x N\n",
        "    '''\n",
        "    ### Begin\n",
        "\n",
        "    ### Enter you code here\n",
        "\n",
        "    ### End\n",
        "    return Xs, fs"
      ],
      "execution_count": null,
      "outputs": []
    },
    {
      "cell_type": "markdown",
      "metadata": {
        "id": "cauYV6E6hfUd"
      },
      "source": [
        "Calculate the 2-D Inverse Fourier Transform of the input image"
      ]
    },
    {
      "cell_type": "code",
      "metadata": {
        "id": "rlYxQL5ugvhB"
      },
      "source": [
        "def idft_xs(Xs,fs):\n",
        "    '''\n",
        "    Inputs:\n",
        "        Xs: magnitude spectrum of size N x N\n",
        "        fs: phase spectrum of size N x N\n",
        "        \n",
        "    Outputs:\n",
        "        img_gray_recon - Original image size N x N\n",
        "    '''\n",
        "    ### Begin \n",
        "\n",
        "    ### Enter you code here\n",
        "\n",
        "    ### End\n",
        "    return img_gray_recon"
      ],
      "execution_count": null,
      "outputs": []
    },
    {
      "cell_type": "markdown",
      "metadata": {
        "id": "bA0PBBHAiYn6"
      },
      "source": [
        "Low Pass filtering of the image in frequency domain"
      ]
    },
    {
      "cell_type": "code",
      "metadata": {
        "id": "MJr9EnDdidT3"
      },
      "source": [
        "def lowpass(img_gray, fc):\n",
        "  '''\n",
        "    Inputs:\n",
        "           img_gray  - grayscaled image of size N x N\n",
        "           fc        - cutoff frequency \n",
        "                  - 0 < fc < sqrt(img.shape[0]*img.shape[1])/2\n",
        "    \n",
        "    Outputs:\n",
        "           out_img - filtered image of size N x N\n",
        "\n",
        "    Note:  You are allowed to use any cv2.dft or cv2.idft module or any other suitable module in numpy and cv2.\n",
        "           Also, use dft_xs() and idft_xs() in the code.\n",
        "                  \n",
        "  '''\n",
        "    ### Begin\n",
        "\n",
        "    ### Enter you code here\n",
        "\n",
        "    ### End\n",
        "    return img_out_low"
      ],
      "execution_count": null,
      "outputs": []
    },
    {
      "cell_type": "markdown",
      "metadata": {
        "id": "Idk16W0cj4XH"
      },
      "source": [
        "High Pass filtering of the image in frequency domain"
      ]
    },
    {
      "cell_type": "code",
      "metadata": {
        "id": "99P-a6UGj67P"
      },
      "source": [
        "def highpass(img_gray, fc):\n",
        "  '''\n",
        "    Inputs:\n",
        "           img_gray  - grayscaled image of size N x N\n",
        "           fc        - cutoff frequency \n",
        "                     - 0 < fc < sqrt(img.shape[0]*img.shape[1])/2\n",
        "\n",
        "    Outputs:\n",
        "           out_img - filtered image of size N x N\n",
        "\n",
        "    Note:  You are allowed to use any cv2.dft or cv2.idft module or any other suitable module in numpy and cv2.\n",
        "           Use dft_xs() and idft_xs() in the code.\n",
        "                  \n",
        "  '''\n",
        "    ### Begin\n",
        "\n",
        "    ### Enter you code here\n",
        "\n",
        "    ### End\n",
        "    return img_out_high"
      ],
      "execution_count": null,
      "outputs": []
    },
    {
      "cell_type": "markdown",
      "metadata": {
        "id": "KmGZ3C1Xk5nx"
      },
      "source": [
        "Band Reject filtering of the image in frequency domain"
      ]
    },
    {
      "cell_type": "code",
      "metadata": {
        "id": "0n-PNhi0k9-8"
      },
      "source": [
        "def bandreject(img_gray, fL, fH):\n",
        "  '''\n",
        "    Inputs:\n",
        "           img_gray  - grayscaled image of size N x N\n",
        "           fL & fH   - cutoff frequency \n",
        "                     - 0 < fL < fH < sqrt(img.shape[0]*img.shape[1])/2\n",
        "\n",
        "    Outputs:\n",
        "           out_img - filtered image of size N x N\n",
        "\n",
        "    Note:  You are allowed to use any cv2.dft or cv2.idft module or any other suitable module in numpy and cv2.\n",
        "           Use dft_xs() and idft_xs() in the code.\n",
        "                  \n",
        "  '''\n",
        "    ### Begin\n",
        "\n",
        "    ### Enter you code here\n",
        "\n",
        "    ### End\n",
        "    return img_out_bandrej"
      ],
      "execution_count": null,
      "outputs": []
    },
    {
      "cell_type": "code",
      "metadata": {
        "id": "IRwEdfstsTur"
      },
      "source": [
        "# Do not change codes inside this cell\n",
        "\n",
        "img2 = cv2.imread('pic2.jpg', 0)\n",
        "img2 = rgb2gray(img2)\n",
        "\n",
        "def plot_frame(gridx, gridy, subplot_id, img, name, axis=False):\n",
        "    plt.subplot(gridx, gridy, 1 + int(subplot_id))\n",
        "    plt.imshow(np.uint8(img), cmap=\"gray\", vmin=0, vmax=255)\n",
        "    \n",
        "    if axis == False:\n",
        "        plt.axis(\"off\")\n",
        "    plt.title(name)"
      ],
      "execution_count": null,
      "outputs": []
    },
    {
      "cell_type": "code",
      "metadata": {
        "id": "6uRwW2hIs9Yv"
      },
      "source": [
        "# Test dft_xs() and idft_xs()\n",
        "# Make sure the reconstructed image looks similar to the original image\n",
        "\n",
        "mag_spectrum, phase_spectrum = dft_xs(img2)\n",
        "noisy_img_recon = idft_xs(mag_spectrum, phase_spectrum)\n",
        "\n",
        "plt.figure(figsize=(12, 6))\n",
        "plot_frame(1, 2, 0, noisy_img, \"Image\")\n",
        "plot_frame(1, 2, 1, noisy_img_recon, \"Image Reconstructed\")"
      ],
      "execution_count": null,
      "outputs": []
    },
    {
      "cell_type": "code",
      "metadata": {
        "id": "xKCyqde71IO0"
      },
      "source": [
        "# Do not change codes inside this cell\n",
        "\n",
        "mag_spectrum, phase_spectrum = dft_xs(img2)\n",
        "\n",
        "plt.figure(figsize=(18, 6))\n",
        "plot_frame(1, 3, 0, img2, \"Image\")\n",
        "\n",
        "tmp = np.log(mag_spectrum)\n",
        "tmp -= np.min(tmp)\n",
        "if np.max(tmp) != 0:\n",
        "    tmp /= np.max(tmp)\n",
        "tmp *= 255\n",
        "plot_frame(1, 3, 1, tmp, \"Magnitude Spectrum\", axis=True)\n",
        "\n",
        "tmp = phase_spectrum\n",
        "tmp -= np.min(tmp)\n",
        "if np.max(tmp) != 0:\n",
        "    tmp /= np.max(tmp)\n",
        "tmp *= 255\n",
        "plot_frame(1, 3, 2, phase_spectrum, \"Phase Spectrum\", axis=True)"
      ],
      "execution_count": null,
      "outputs": []
    },
    {
      "cell_type": "code",
      "metadata": {
        "id": "xPgn-EZE3et9"
      },
      "source": [
        "# Have a look at the phase and magnitude spectrum of the image and find a suitable fL and fH for\n",
        "# a Band reject filter to work subjectively sufficiently\n",
        "\n",
        "def plot_bandreject_output(fL, fH):\n",
        "    if fL == \".....\":\n",
        "        fL = 1\n",
        "        fH = int(img2.shape[0]/2)\n",
        "        \n",
        "    img2_filtered = applyBandRejectFilter(img2, fL, fH)\n",
        "    plt.figure(figsize=(12, 6))\n",
        "    plot_frame(1, 2, 0, img2, \"Image\")\n",
        "    plot_frame(1, 2, 1, img2_filtered, \"Filtered\")\n",
        "\n",
        "\n",
        "#############################\n",
        "# Your part #################\n",
        "#############################\n",
        "\n",
        "# Replace with your value for fL and fH\n",
        "fL = \".....\"\n",
        "fH = \".....\"\n",
        "\n",
        "plot_bandreject_output(fL, fH)"
      ],
      "execution_count": null,
      "outputs": []
    },
    {
      "cell_type": "code",
      "metadata": {
        "id": "kLTefkZeGhBF"
      },
      "source": [
        "# Have a look at the phase and magnitude spectrum of the image and find a suitable fc for Low Pass and High Pass filters \n",
        "# so that the filter:\n",
        "# 1. covers 25% of the area in magnitude spectrum, call it fc_quart\n",
        "# 2. covers 50% of the area in magnitude spectrum, call it fc_half\n",
        "\n",
        "\n",
        "\n",
        "#############################\n",
        "# Write code here to find out 25% and 50% fc #\n",
        "#############################\n",
        "\n"
      ],
      "execution_count": null,
      "outputs": []
    },
    {
      "cell_type": "markdown",
      "metadata": {
        "id": "vXlB-6921QfB"
      },
      "source": [
        "### Observations"
      ]
    },
    {
      "cell_type": "code",
      "metadata": {
        "id": "8Xpg9TIo1MnO"
      },
      "source": [
        "# Do not change codes inside this cell\n",
        "# Add your observations in next cell\n",
        "\n",
        "plt.figure(figsize=(18, 12))\n",
        "plot_frame(3, 4, 0, img2, \"Image\")\n",
        "\n",
        "tmp = bandreject(img2, fL, fH)\n",
        "plot_frame(3, 4, 1, tmp, \"BRF\")\n",
        "\n",
        "tmp = lowpass(img2, fL)\n",
        "plot_frame(3, 4, 2, tmp, \"LPF (fc = fL)\")\n",
        "\n",
        "tmp = lowpass(img2, fH)\n",
        "plot_frame(3, 4, 3, tmp, \"LPF (fc = fH)\")\n",
        "\n",
        "tmp = lowpass(img2, fc_quart)\n",
        "plot_frame(3, 4, 4, tmp, \"LPF (fc = fc_quart)\")\n",
        "\n",
        "tmp = lowpass(img2, fc_half)\n",
        "plot_frame(3, 4, 5, tmp, \"LPF (fc = fc_half)\")\n",
        "\n",
        "tmp = highpass(img2, fL)\n",
        "plot_frame(3, 4, 6, tmp, \"HPF (fc = fL)\")\n",
        "\n",
        "tmp = highpass(img2, fH)\n",
        "plot_frame(3, 4, 7, tmp, \"HPF (fc = fH)\")\n",
        "\n",
        "tmp = highpass(img2, fc_quart)\n",
        "plot_frame(3, 4, 8, tmp, \"HPF (fc = fc_quart)\")\n",
        "\n",
        "tmp = highpass(img2, fc_half)\n",
        "plot_frame(3, 4, 9, tmp, \"HPF (fc = fc_half)\")"
      ],
      "execution_count": null,
      "outputs": []
    },
    {
      "cell_type": "code",
      "metadata": {
        "id": "hRCxBax-1NX2"
      },
      "source": [
        "# Add your observations; make sure you compare all the five filtering operations done in the previous cell\n",
        "\n",
        "your_observation = \"\"\"\n",
        "Replace this with your observations in atleast 5 points.\n",
        "\"\"\"\n",
        "\n",
        "print(your_observation)"
      ],
      "execution_count": null,
      "outputs": []
    }
  ]
}