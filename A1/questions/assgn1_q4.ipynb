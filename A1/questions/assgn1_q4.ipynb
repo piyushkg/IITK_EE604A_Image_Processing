{
  "nbformat": 4,
  "nbformat_minor": 0,
  "metadata": {
    "colab": {
      "name": "assgn1_q4.ipynb",
      "provenance": []
    },
    "kernelspec": {
      "name": "python3",
      "display_name": "Python 3"
    },
    "language_info": {
      "name": "python"
    }
  },
  "cells": [
    {
      "cell_type": "code",
      "metadata": {
        "id": "CAEcw9zuFhFu"
      },
      "source": [
        "# Copyright 2021 IITK EE604A Image Processing. All Rights Reserved.\n",
        "# \n",
        "# Licensed under the MIT License. Use and/or modification of this code outside of EE604 must reference:\n",
        "#\n",
        "# © IITK EE604A Image Processing \n",
        "#\n",
        "# Author: Dheeraj Bharti, Chiranjeev Prachand and Prof K. S. Venkatesh, Department of Electrical Engineering, IIT Kanpur"
      ],
      "execution_count": null,
      "outputs": []
    },
    {
      "cell_type": "markdown",
      "metadata": {
        "id": "utIr7m9PUUWw"
      },
      "source": [
        "Question 4.\n",
        "\n",
        "This question consists of two parts:<br>\n",
        "  1) swapping of the three R, G, B channels<br>\n",
        "  2) image rotation and translation"
      ]
    },
    {
      "cell_type": "code",
      "metadata": {
        "id": "9ORMX8mDU3d7"
      },
      "source": [
        "import numpy as np\n",
        "import cv2\n"
      ],
      "execution_count": null,
      "outputs": []
    },
    {
      "cell_type": "code",
      "metadata": {
        "id": "PpWVtH5GVnpa"
      },
      "source": [
        "def [out_im1, out_im2, out_im3] = rgb_swap(img)\n",
        "  '''\n",
        "  write a program which creates three images with RGB channels swapped in each of the image. let the original image be BGR then the second and the third \n",
        "  output images should be RBG and GRB respectively. \n",
        "\n",
        "  Inputs:\n",
        "  - img - original image\n",
        "\n",
        "  Outputs: \n",
        "  - out_im1 - numpy array (of dtype np.uint8) containing the output image in BGR.\n",
        "  - out_im2 - numpy array (of dtype np.uint8) containing the output image in RBG.\n",
        "  - out_im3 - numpy array (of dtype np.uint8) containing the output image in GRB. \n",
        "\n",
        "  Allowed external package:\n",
        "  You are not allowed to use any direct implementations \n",
        "  '''\n",
        "\n",
        "  #############################\n",
        "  # Start your code from here #\n",
        "  #############################\n",
        "    \n",
        "  # Replace with your code...\n",
        "    \n",
        "  #############################\n",
        "  # End your code here ########\n",
        "  #############################    "
      ],
      "execution_count": null,
      "outputs": []
    },
    {
      "cell_type": "code",
      "metadata": {
        "id": "DLSXuHewbJ57"
      },
      "source": [
        "## Test run\n",
        "\n",
        "## Write a script which runs the above function for the given image and plot the different images in a pyplot subplot observing the changes.\n",
        "im = cv2.imread('q2im1.jpg')\n",
        "\n"
      ],
      "execution_count": null,
      "outputs": []
    },
    {
      "cell_type": "code",
      "metadata": {
        "id": "Lzpln_NOXm8b"
      },
      "source": [
        "def transform_image(img, shift, theta)\n",
        "  '''\n",
        "  write a program which translate and rotates a white square of size 100x100 pixels. First create an image of size 512x512 pixels having black background \n",
        "  and a square of size 100x100 in the center of the image. now write a code which shifts the square by given pixel value and rotates it counter clockwise by \n",
        "  given angle theta.\n",
        "\n",
        "  Inputs:\n",
        "  - img - original image\n",
        "  - shift - a 2x1 array having the pixel shift value in x direction and y direction\n",
        "  - theta - angle of roatation in degrees in counter clockwise direction\n",
        "\n",
        "  Outputs: \n",
        "  - out_im - numpy array (of dtype np.uint8) containing the output image.\n",
        "\n",
        "  Allowed external package:\n",
        "  You are not allowed to use any direct implementations \n",
        "  '''\n",
        "\n",
        "  #############################\n",
        "  # Start your code from here #\n",
        "  #############################\n",
        "    \n",
        "  # Replace with your code...\n",
        "    \n",
        "  #############################\n",
        "  # End your code here ########\n",
        "  #############################    \n",
        "\n",
        "  return np.uint8(out_img)"
      ],
      "execution_count": null,
      "outputs": []
    },
    {
      "cell_type": "code",
      "metadata": {
        "id": "Pu3EHWMnch5v"
      },
      "source": [
        "# Write a script which tests your function for atleast 5 different combinations of rotation and translation\n",
        "\n",
        "\n",
        "\n"
      ],
      "execution_count": null,
      "outputs": []
    }
  ]
}