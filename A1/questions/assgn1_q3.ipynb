{
  "nbformat": 4,
  "nbformat_minor": 0,
  "metadata": {
    "colab": {
      "name": "assgn1_q3.ipynb",
      "provenance": []
    },
    "kernelspec": {
      "name": "python3",
      "display_name": "Python 3"
    },
    "language_info": {
      "name": "python"
    }
  },
  "cells": [
    {
      "cell_type": "code",
      "metadata": {
        "id": "etFFSnG2xSLx"
      },
      "source": [
        "# Copyright 2021 IITK EE604A Image Processing. All Rights Reserved.\n",
        "# \n",
        "# Licensed under the MIT License. Use and/or modification of this code outside of EE604 must reference:\n",
        "#\n",
        "# © IITK EE604A Image Processing \n",
        "#\n",
        "# Author: Dheeraj Bharti, Chiranjeev Prachand and Prof K. S. Venkatesh, Department of Electrical Engineering, IIT Kanpur"
      ],
      "execution_count": null,
      "outputs": []
    },
    {
      "cell_type": "markdown",
      "metadata": {
        "id": "0WFbd3j4xaDb"
      },
      "source": [
        "Question 2.\n",
        "\n",
        "In this question we will be merging two images in different ways. Write all the functions for grayscale images only."
      ]
    },
    {
      "cell_type": "code",
      "metadata": {
        "id": "wwAPmsmpzAsS"
      },
      "source": [
        "import numpy as np\n",
        "import cv2\n",
        "import matplotlib.pyplot as plt\n",
        "\n",
        "image1 = cv2.imread('q2im1.jpg')\n",
        "image2 = cv2.imread('q2im2.jpg')\n",
        "img1_gray = cv2.cvtColor(image1, cv2.COLOR_BGR2GRAY) # convert to greyscale\n",
        "img2_gray = cv2.cvtColor(image2, cv2.COLOR_BGR2GRAY) # convert to greyscale\n"
      ],
      "execution_count": null,
      "outputs": []
    },
    {
      "cell_type": "code",
      "metadata": {
        "id": "GV9KDTwMzKqE"
      },
      "source": [
        "define merge1(img1, img2)\n",
        "  '''\n",
        "  write a program to merge two image such that left half of the output image consists of left half of image 1 and right half of the output image\n",
        "  consists of right half of image 2. For example ther are two images of 512 x 512 pixel then the output image will have 0 to 255 columns of the first image\n",
        "  and 256 to 511 columns of the second image\n",
        "\n",
        "  Inputs:\n",
        "  - img1 - first image\n",
        "  - img2 - second image\n",
        "\n",
        "  Outputs: \n",
        "  - out_img - numpy array (of dtype np.uint8) containing the output image.\n",
        "  \n",
        "  Allowed external package:\n",
        "  You are not allowed to use any direct implementations \n",
        "  '''\n",
        "\n",
        "  #############################\n",
        "  # Start your code from here #\n",
        "  #############################\n",
        "    \n",
        "  # Replace with your code...\n",
        "    \n",
        "  #############################\n",
        "  # End your code here ########\n",
        "  #############################    \n",
        "    \n",
        "  return np.uint8(out_img)"
      ],
      "execution_count": null,
      "outputs": []
    },
    {
      "cell_type": "code",
      "metadata": {
        "id": "V-rS1Og87j42"
      },
      "source": [
        "def resize_arbitary(img, out_pixels)\n",
        "  '''\n",
        "  write a program which resizes the given image into the given pixels\n",
        "\n",
        "  Inputs:\n",
        "  - img - original image\n",
        "  - out_pixels - 2x1 array having out image width and height respectively\n",
        "\n",
        "  Outputs:\n",
        "  - out_img - numpy array (of dtype np.uint8) containing the output image.\n",
        "  \n",
        "  Allowed external package:\n",
        "  You are not allowed to use cv2.resize or any other externa module.\n",
        "  '''\n",
        "\n",
        "  #############################\n",
        "  # Start your code from here #\n",
        "  #############################\n",
        "    \n",
        "  # Replace with your code...\n",
        "    \n",
        "  #############################\n",
        "  # End your code here ########\n",
        "  #############################    \n",
        "    \n",
        "  return np.uint8(out_img)"
      ],
      "execution_count": null,
      "outputs": []
    },
    {
      "cell_type": "code",
      "metadata": {
        "id": "TzKDg-3M6NyL"
      },
      "source": [
        "def merge2(img1, img2)\n",
        "  '''\n",
        "  Using the above function change the size of both images such that the height remains the same and the width is halved for example an 512x512  image \n",
        "  should result in an image of size 512x256.\n",
        "  Then write a program to merge two images such that left half consists of the scaled first image and right half consists of the scaled second image.\n",
        "  Inputs:\n",
        "  - img1 - first image\n",
        "  - img2 - second image\n",
        "\n",
        "  Outputs: \n",
        "  - out_img - numpy array (of dtype np.uint8) containing the output image.\n",
        "  \n",
        "  Allowed external package:\n",
        "  You are not allowed to use any direct implementations \n",
        "  '''\n",
        "\n",
        "  #############################\n",
        "  # Start your code from here #\n",
        "  #############################\n",
        "    \n",
        "  # Replace with your code...\n",
        "    \n",
        "  #############################\n",
        "  # End your code here ########\n",
        "  #############################    \n",
        "    \n",
        "  return np.uint8(out_img)"
      ],
      "execution_count": null,
      "outputs": []
    },
    {
      "cell_type": "code",
      "metadata": {
        "id": "qlQCA1dP-MoJ"
      },
      "source": [
        "def merge_pip(img1, img2)\n",
        "  '''\n",
        "  By using the resize_arbitary function resize the second image by half such that the output width and height is half of the input width and height.\n",
        "  Then write a program to merge the two images as picture in picture (PiP). the center of the two images should be alligned to each other\n",
        "\n",
        "  Inputs:\n",
        "  - img1 - first image\n",
        "  - img2 - second image\n",
        "\n",
        "  Outputs: \n",
        "  - out_img - numpy array (of dtype np.uint8) containing the output image.\n",
        "  \n",
        "  Allowed external package:\n",
        "  You are not allowed to use any direct implementations \n",
        "  '''\n",
        "\n",
        "  #############################\n",
        "  # Start your code from here #\n",
        "  #############################\n",
        "    \n",
        "  # Replace with your code...\n",
        "    \n",
        "  #############################\n",
        "  # End your code here ########\n",
        "  #############################    \n",
        "    \n",
        "  return np.uint8(out_img)"
      ],
      "execution_count": null,
      "outputs": []
    },
    {
      "cell_type": "code",
      "metadata": {
        "id": "jMVCZkRlBv0v"
      },
      "source": [
        "def merge_blend(img1, img2)\n",
        "  '''\n",
        "  In this function we will blend two images. First resize the second image to half of its original width and height. Then write a program to blend the\n",
        "  two images. Blending is nothing but adding the corosponding pixel values of the two images. Keep the center of the two images aligned just like the above\n",
        "  function.\n",
        "\n",
        "  Inputs:\n",
        "  - img1 - first image\n",
        "  - img2 - second image\n",
        "\n",
        "  Outputs: \n",
        "  - out_img - numpy array (of dtype np.uint8) containing the output image.\n",
        "  \n",
        "  Allowed external package:\n",
        "  You are not allowed to use any direct implementations \n",
        "  '''\n",
        "\n",
        "  #############################\n",
        "  # Start your code from here #\n",
        "  #############################\n",
        "    \n",
        "  # Replace with your code...\n",
        "    \n",
        "  #############################\n",
        "  # End your code here ########\n",
        "  #############################    \n",
        "    \n",
        "  return np.uint8(out_img)"
      ],
      "execution_count": null,
      "outputs": []
    },
    {
      "cell_type": "code",
      "metadata": {
        "id": "3zfTbNh3DU84"
      },
      "source": [
        "im1 = merge1(img1_gray, img2_gray)\n",
        "im2 = merge2(img1_gray, img2_gray)\n",
        "im3 = merge_pip(img1_gray, img2_gray)\n",
        "im4 = merge_blend(img1_gray, img2_gray)\n",
        "\n",
        "plt.subplot(2, 2, 1)\n",
        "plt.imshow(im1)\n",
        "plt.subplot(2, 2, 2)\n",
        "plt.imshow(im2)\n",
        "plt.subplot(2, 2, 3)\n",
        "plt.imshow(im3)\n",
        "plt.subplot(2, 2, 4)\n",
        "plt.imshow(im4)\n"
      ],
      "execution_count": null,
      "outputs": []
    }
  ]
}