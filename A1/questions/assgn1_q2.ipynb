{
  "nbformat": 4,
  "nbformat_minor": 0,
  "metadata": {
    "colab": {
      "name": "assgn1_q2.ipynb",
      "provenance": []
    },
    "kernelspec": {
      "name": "python3",
      "display_name": "Python 3"
    },
    "language_info": {
      "name": "python"
    }
  },
  "cells": [
    {
      "cell_type": "code",
      "metadata": {
        "id": "zxWfNhqRdqpb"
      },
      "source": [
        "# Copyright 2021 IITK EE604A Image Processing. All Rights Reserved.\n",
        "# \n",
        "# Licensed under the MIT License. Use and/or modification of this code outside of EE604 must reference:\n",
        "#\n",
        "# © IITK EE604A Image Processing \n",
        "#\n",
        "# Author: Dheeraj Bharti, Chiranjeev Prachand and Prof K. S. Venkatesh, Department of Electrical Engineering, IIT Kanpur"
      ],
      "execution_count": null,
      "outputs": []
    },
    {
      "cell_type": "code",
      "metadata": {
        "id": "CPCItmHf7ZNN"
      },
      "source": [
        "import cv2\n",
        "import numpy as np\n",
        "import matplotlib.pyplot as plt"
      ],
      "execution_count": null,
      "outputs": []
    },
    {
      "cell_type": "markdown",
      "metadata": {
        "id": "vGx_xEPh93cr"
      },
      "source": [
        "Upload 'pic3.png' file manually to your google colab working directory:\n",
        "\n",
        "1. Click on the folder drawing button on the left below the <> sign.\n",
        "2. Click on Upload to session storage button to upload the image."
      ]
    },
    {
      "cell_type": "code",
      "metadata": {
        "id": "28WCExwZ9ixu"
      },
      "source": [
        "img = cv2.imread(\"pic3.png\")"
      ],
      "execution_count": null,
      "outputs": []
    },
    {
      "cell_type": "code",
      "metadata": {
        "id": "jO3kIBUT9k8v"
      },
      "source": [
        "def resize_nn(img, k=1):\n",
        "    '''\n",
        "    Write a program to resample the given image by a factor 'k' using Nearest Neighbour method\n",
        "    \n",
        "    Inputs:\n",
        "    + img - Original image\n",
        "    + k - resampling factor, therefore if input image size is 300x300 \n",
        "        - and k=0.5 ==> output image size = 150x150\n",
        "    \n",
        "    Ouputs:\n",
        "    + out_img - numpy array (of dtype np.uint8) containing the output image.\n",
        "    \n",
        "    Allowed external package:\n",
        "    + You are not allowed to use any cv2 resize module or any other external package. \n",
        "    \n",
        "    '''\n",
        "    \n",
        "    #############################\n",
        "    # Start your code from here #\n",
        "    #############################\n",
        "    \n",
        "    # Replace with your code...\n",
        "    \n",
        "    #############################\n",
        "    # End your code here ########\n",
        "    #############################    \n",
        "    \n",
        "    return out_img"
      ],
      "execution_count": null,
      "outputs": []
    },
    {
      "cell_type": "code",
      "metadata": {
        "id": "qCZKyiZ69q_I"
      },
      "source": [
        "def resize_bilinear(img, k=1):\n",
        "    '''\n",
        "    Write a program to resample the given image by a factor 'k' using Bilinear interpolation method.\n",
        "    \n",
        "    Inputs:\n",
        "    + img - Original image\n",
        "    + k - resampling factor\n",
        "    \n",
        "    Ouputs:\n",
        "    + out_img - numpy array (of dtype np.uint8) containing the output image.\n",
        "    \n",
        "    Allowed external package:\n",
        "    + You are not allowed to use any cv2 resize module or any other external package. \n",
        "    \n",
        "    '''\n",
        "    \n",
        "    #############################\n",
        "    # Start your code from here #\n",
        "    #############################\n",
        "    \n",
        "    # Replace with your code...\n",
        "    \n",
        "    #############################\n",
        "    # End your code here ########\n",
        "    #############################    \n",
        "    \n",
        "    return out_img"
      ],
      "execution_count": null,
      "outputs": []
    },
    {
      "cell_type": "markdown",
      "metadata": {
        "id": "fRpr6E0JCrVg"
      },
      "source": [
        "# Checking the output:\n",
        "\n",
        "Resize the image by utilizing output1 and output2 in the code block below and plot the original and resized images side by side in both cases.\n"
      ]
    },
    {
      "cell_type": "code",
      "metadata": {
        "id": "AE7T3fkk9rsa"
      },
      "source": [
        "output1 = resize_nn(img, k=0.6)\n",
        "\n",
        "output2 = resize_bilinear(img, k=0.4) \n",
        "\n",
        "#############################\n",
        "# Start your code from here #\n",
        "#############################\n",
        "\n",
        "# Replace with your code...\n",
        "\n",
        "#############################\n",
        "# End your code here ########\n",
        "#############################"
      ],
      "execution_count": null,
      "outputs": []
    },
    {
      "cell_type": "code",
      "metadata": {
        "id": "OQ3Kbfnv9wxo"
      },
      "source": [
        "your_observation = \"\"\"\n",
        "Replace this with your observations in atleast 5 points.\n",
        "\"\"\"\n",
        "\n",
        "print(your_observation)"
      ],
      "execution_count": null,
      "outputs": []
    }
  ]
}