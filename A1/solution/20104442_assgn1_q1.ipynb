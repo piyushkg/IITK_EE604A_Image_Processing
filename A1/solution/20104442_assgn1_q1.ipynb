{
 "cells": [
  {
   "cell_type": "code",
   "execution_count": null,
   "metadata": {
    "id": "SYthSHOzk5cX"
   },
   "outputs": [],
   "source": [
    "# Copyright 2021 IITK EE604A Image Processing. All Rights Reserved.\n",
    "# \n",
    "# Licensed under the MIT License. Use and/or modification of this code outside of EE604 must reference:\n",
    "#\n",
    "# © IITK EE604A Image Processing \n",
    "#\n",
    "# Author: Dheeraj Bharti, Chiranjeev Prachand and Prof K. S. Venkatesh, Department of Electrical Engineering, IIT Kanpur"
   ]
  },
  {
   "cell_type": "markdown",
   "metadata": {
    "id": "OL39cjeemAFS"
   },
   "source": [
    "Question 1.\n",
    "\n",
    "In this question, we create an image by creating a matrix using numpy module. There are two subparts, one creates a binary image consisting of only 2 levels. and second a coloured image."
   ]
  },
  {
   "cell_type": "code",
   "execution_count": 1,
   "metadata": {
    "id": "i6ovT_B2nJXT"
   },
   "outputs": [],
   "source": [
    "import numpy as np\n",
    "import cv2\n",
    "from google.colab.patches import cv2_imshow"
   ]
  },
  {
   "cell_type": "code",
   "execution_count": 2,
   "metadata": {
    "id": "NveWVIFJnTdq"
   },
   "outputs": [],
   "source": [
    "def binary_shapes():\n",
    "  '''\n",
    "  Write a program to generate a binary image of 512 x 512 pixels. The image should have a black (pixel value 0) boundary having a width of 40 pixels. \n",
    "  After the black boundary, create a white (pixel value 255) square. Inside this square, create a black circle having the diameter equal to the length \n",
    "  of the square. Lastly create a white equilateral triangle inscribed within the circle.\n",
    "\n",
    "  Inputs:\n",
    "  no inputs\n",
    "\n",
    "  Outputs: \n",
    "  out_img - numpy array (of dtype np.uint8) containing the output image.\n",
    "  \n",
    "  Allowed external package:\n",
    "    + You cannot use cv2.circle to draw circle and cv2.fillPoly() to draw triangle . \n",
    "    + You are not allowed to use any other external package.\n",
    "\n",
    "  '''\n",
    "\n",
    "  out_img = np.zeros((512, 512), dtype=np.uint8) # Intialise with blank display\n",
    "  a = 40\n",
    "  b = 256.5\n",
    "  c = 256.5 + (216.5/2)\n",
    "  d = 256.5 - np.sqrt(3)*(216.5/2)\n",
    "  e = 256.5 + (216.5/2)\n",
    "  f = 256.5 + np.sqrt(3)*(216.5/2)\n",
    "  for i in range(40,472):\n",
    "    for j in range(40,472):\n",
    "       out_img[i][j] = 255\n",
    "       if np.sqrt((i-256.5)**2 + (j-256.5)**2) < 216:\n",
    "         out_img[i][j] = 0\n",
    "         if (((j-b) - ((b-d)/(a-c)) * (i-a)) > 0) and (((j-b) - ((b-f)/(a-e)) * (i-a)) < 0) and (((j-f) - ((f-d)/(e-c)) * (i-e)) > 0):\n",
    "         #if ((((j-b)*(a-c)) - (b-d) * (i-a)) > 0) and ((((j-b)*(a-e)) - (b-f) * (i-a)) < 0) and ((((j-f)*(e-c)) - (f-d) * (i-e)) > 0):\n",
    "           out_img[i][j] = 255\n",
    "  return np.uint8(out_img)"
   ]
  },
  {
   "cell_type": "code",
   "execution_count": 3,
   "metadata": {
    "colab": {
     "base_uri": "https://localhost:8080/",
     "height": 546
    },
    "id": "EMmj9TEpqrub",
    "outputId": "daffadae-97dd-4383-a5dc-474c4cd31e89"
   },
   "outputs": [
    {
     "name": "stderr",
     "output_type": "stream",
     "text": [
      "/usr/local/lib/python3.7/dist-packages/ipykernel_launcher.py:31: RuntimeWarning: divide by zero encountered in double_scalars\n"
     ]
    },
    {
     "data": {
      "image/png": "[encoded data removed]",
      "text/plain": [
       "<PIL.Image.Image image mode=L size=512x512 at 0x7FF593E14B50>"
      ]
     },
     "metadata": {},
     "output_type": "display_data"
    }
   ],
   "source": [
    "# Test Run\n",
    "img = binary_shapes()\n",
    "cv2_imshow(img)"
   ]
  },
  {
   "cell_type": "code",
   "execution_count": 4,
   "metadata": {
    "id": "vampjMYMs14c"
   },
   "outputs": [],
   "source": [
    "def color_shape():\n",
    "  '''\n",
    "  You have to create an image similar to the previous one but instead of binary this image will be coloured one. \n",
    "  An colour image consists of three matrix each for R,G,B channel. The shapes will remain same as the above image but the colour of boundary will be white,\n",
    "  squre should be in blue, cirlce should be in red and the triangle should be green. Create the R,G,B matrices respectively.\n",
    "\n",
    "  Inputs:\n",
    "  no inputs\n",
    "\n",
    "  Outputs: \n",
    "  out_img - numpy array (of dtype np.uint8) containing the output image.\n",
    "\n",
    "  Allowed external package:\n",
    "    + You cannot use cv2.circle to draw circle and cv2.fillPoly() to draw triangle . \n",
    "    + You are not allowed to use any other external package.\n",
    "\n",
    "  '''\n",
    "\n",
    "  rr = np.zeros((512, 512), dtype=np.uint8) + 255 # Intialise the red channel matrix\n",
    "  gg = np.zeros((512, 512), dtype=np.uint8) + 255 # Intialise the green channel matrix\n",
    "  bb = np.zeros((512, 512), dtype=np.uint8) + 255 # Intialise the blue channel matrix\n",
    "\n",
    "  a = 40\n",
    "  b = 256.5\n",
    "  c = 256.5 + (216.5/2)\n",
    "  d = 256.5 - np.sqrt(3)*(216.5/2)\n",
    "  e = 256.5 + (216.5/2)\n",
    "  f = 256.5 + np.sqrt(3)*(216.5/2)\n",
    "  for i in range(40,472):\n",
    "    for j in range(40,472):\n",
    "       rr[i][j] = 0 \n",
    "       gg[i][j] = 0 \n",
    "       bb[i][j] = 255 \n",
    "       if np.sqrt((i-256.5)**2 + (j-256.5)**2) < 216:\n",
    "         rr[i][j] = 255 \n",
    "         gg[i][j] = 0 \n",
    "         bb[i][j] = 0 \n",
    "         if (((j-b) - ((b-d)/(a-c)) * (i-a)) > 0) and (((j-b) - ((b-f)/(a-e)) * (i-a)) < 0) and (((j-f) - ((f-d)/(e-c)) * (i-e)) > 0):\n",
    "         #if (((j-b)*(a-c) - (b-d) * (i-a)) > 0) and (((j-b)*(a-e) - (b-f) * (i-a)) < 0) and (((j-f)*(e-c) - (f-d) * (i-e)) > 0):\n",
    "           rr[i][j] = 0 \n",
    "           gg[i][j] = 255 \n",
    "           bb[i][j] = 0    \n",
    "  out_img_2 = cv2.merge((bb,gg,rr))     #merging the r,g,b channels\n",
    "  return np.uint8(out_img_2)\n"
   ]
  },
  {
   "cell_type": "code",
   "execution_count": 5,
   "metadata": {
    "colab": {
     "base_uri": "https://localhost:8080/",
     "height": 546
    },
    "id": "_wp3ocLzv3B1",
    "outputId": "9431752b-8cfc-4bbd-ed24-f03285bea80e"
   },
   "outputs": [
    {
     "name": "stderr",
     "output_type": "stream",
     "text": [
      "/usr/local/lib/python3.7/dist-packages/ipykernel_launcher.py:38: RuntimeWarning: divide by zero encountered in double_scalars\n"
     ]
    },
    {
     "data": {
      "image/png": "[encoded data removed]",
      "text/plain": [
       "<PIL.Image.Image image mode=RGB size=512x512 at 0x7FF5850A9250>"
      ]
     },
     "metadata": {},
     "output_type": "display_data"
    }
   ],
   "source": [
    "# Test Run\n",
    "img_1 = color_shape()\n",
    "cv2_imshow(img_1)"
   ]
  },
  {
   "cell_type": "code",
   "execution_count": null,
   "metadata": {
    "id": "uqLZd09cDjOs"
   },
   "outputs": [],
   "source": []
  }
 ],
 "metadata": {
  "colab": {
   "collapsed_sections": [],
   "name": "20104442_assgn1_q1.ipynb",
   "provenance": []
  },
  "kernelspec": {
   "display_name": "Python 3",
   "language": "python",
   "name": "python3"
  },
  "language_info": {
   "codemirror_mode": {
    "name": "ipython",
    "version": 3
   },
   "file_extension": ".py",
   "mimetype": "text/x-python",
   "name": "python",
   "nbconvert_exporter": "python",
   "pygments_lexer": "ipython3",
   "version": "3.8.8"
  }
 },
 "nbformat": 4,
 "nbformat_minor": 1
}
